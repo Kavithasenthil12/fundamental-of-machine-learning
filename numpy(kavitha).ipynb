{
 "cells": [
  {
   "cell_type": "code",
   "execution_count": 5,
   "id": "de2fd6cf-4bfe-4c27-ad71-d027fbc9e852",
   "metadata": {},
   "outputs": [
    {
     "name": "stdout",
     "output_type": "stream",
     "text": [
      "[1 2 3 4 5]\n"
     ]
    }
   ],
   "source": [
    "import numpy as np\n",
    "arr=np.array([1,2,3,4,5])\n",
    "print(arr)"
   ]
  },
  {
   "cell_type": "code",
   "execution_count": 6,
   "id": "eda790f1-8592-47b2-99e1-1250762b5b3c",
   "metadata": {},
   "outputs": [
    {
     "name": "stdout",
     "output_type": "stream",
     "text": [
      "[[1 2 3]\n",
      " [4 5 6]]\n"
     ]
    }
   ],
   "source": [
    "arr=np.array([[1,2,3],[4,5,6]])\n",
    "print(arr)"
   ]
  },
  {
   "cell_type": "code",
   "execution_count": 7,
   "id": "19ea20a3-bf58-4120-8865-14b00e220135",
   "metadata": {},
   "outputs": [
    {
     "name": "stdout",
     "output_type": "stream",
     "text": [
      "[[[1 2 3]\n",
      "  [4 5 6]]\n",
      "\n",
      " [[1 2 3]\n",
      "  [4 5 6]]]\n"
     ]
    }
   ],
   "source": [
    "arr=np.array([[[1,2,3],[4,5,6]],[[1,2,3],[4,5,6]]])\n",
    "print(arr)"
   ]
  },
  {
   "cell_type": "code",
   "execution_count": 9,
   "id": "4afe0c75-7d4d-4d18-9313-30f8268550fa",
   "metadata": {},
   "outputs": [
    {
     "name": "stdout",
     "output_type": "stream",
     "text": [
      "[[0. 0.]\n",
      " [0. 0.]\n",
      " [0. 0.]]\n"
     ]
    }
   ],
   "source": [
    "zeros_arr=np.zeros((3,2))\n",
    "print(zeros_arr)"
   ]
  },
  {
   "cell_type": "code",
   "execution_count": 10,
   "id": "7131010a-70db-4b7a-9ccc-4bd3a6f1ab28",
   "metadata": {},
   "outputs": [
    {
     "name": "stdout",
     "output_type": "stream",
     "text": [
      "[1. 1. 1.]\n"
     ]
    }
   ],
   "source": [
    "ones_arr=np.ones(3)\n",
    "print(ones_arr)"
   ]
  },
  {
   "cell_type": "code",
   "execution_count": 11,
   "id": "70e6dfeb-8a15-429d-b11e-8520012f476f",
   "metadata": {},
   "outputs": [
    {
     "name": "stdout",
     "output_type": "stream",
     "text": [
      "[[0. 0.]\n",
      " [0. 0.]\n",
      " [0. 0.]]\n"
     ]
    }
   ],
   "source": [
    "empty_arr=np.empty((3,2))\n",
    "print(empty_arr)"
   ]
  },
  {
   "cell_type": "code",
   "execution_count": 12,
   "id": "2faf3e43-f961-4c61-b4ed-4ef35cc685de",
   "metadata": {},
   "outputs": [
    {
     "name": "stdout",
     "output_type": "stream",
     "text": [
      "[[1. 0. 0.]\n",
      " [0. 1. 0.]\n",
      " [0. 0. 1.]]\n"
     ]
    }
   ],
   "source": [
    "identy_matrix=np.eye(3)\n",
    "print(identy_matrix)"
   ]
  },
  {
   "cell_type": "code",
   "execution_count": 15,
   "id": "8536c514-10d4-45a4-882b-ae91dcf901a5",
   "metadata": {},
   "outputs": [
    {
     "name": "stdout",
     "output_type": "stream",
     "text": [
      "float64\n",
      "int32\n"
     ]
    }
   ],
   "source": [
    "arr1=np.array([1,2,3],dtype=np.float64)\n",
    "arr2=np.array([1,2,3],dtype=np.int32)\n",
    "print(arr1.dtype)\n",
    "print(arr2.dtype)"
   ]
  },
  {
   "cell_type": "code",
   "execution_count": 17,
   "id": "be94714a-5f7e-4c96-a468-61c8c5a8d943",
   "metadata": {},
   "outputs": [
    {
     "name": "stdout",
     "output_type": "stream",
     "text": [
      "Before converting: [1 2 3] int64\n",
      "After converting: [1. 2. 3.] float32\n"
     ]
    }
   ],
   "source": [
    "arr=np.array([1,2,3])\n",
    "print(\"Before converting:\",arr,arr.dtype)\n",
    "new_arr=arr.astype('f')\n",
    "print(\"After converting:\",new_arr,new_arr.dtype)"
   ]
  },
  {
   "cell_type": "code",
   "execution_count": 20,
   "id": "f8bca7c1-47af-4265-881c-87972492a798",
   "metadata": {},
   "outputs": [
    {
     "name": "stdout",
     "output_type": "stream",
     "text": [
      "array 1\n",
      " [0 1 2 3 4 5 6 7 8 9] int64\n",
      "array 2\n",
      " [-0.20658771  0.47560014  1.69728001 -0.54502195  1.62093628  0.48445832\n",
      "  1.04281501 -0.32269843  0.95332017  2.29172752] float64\n",
      "new array \n",
      " [1. 2. 3.] float64\n"
     ]
    }
   ],
   "source": [
    "arr1=np.arange(10)\n",
    "arr2=np.random.randn(10)\n",
    "print(\"array 1\\n\",arr1,arr1.dtype)\n",
    "print(\"array 2\\n\",arr2,arr2.dtype)\n",
    "new_arr=arr.astype(arr2.dtype)\n",
    "print(\"new array \\n\",new_arr,new_arr.dtype)"
   ]
  },
  {
   "cell_type": "code",
   "execution_count": 21,
   "id": "0e1cc745-22e5-453c-b359-2f03f0c62f6f",
   "metadata": {},
   "outputs": [
    {
     "name": "stdout",
     "output_type": "stream",
     "text": [
      "['hello' 'world' 'numpy']\n"
     ]
    }
   ],
   "source": [
    "str_arr=np.array(['hello','world','numpy'])\n",
    "print(str_arr)"
   ]
  },
  {
   "cell_type": "code",
   "execution_count": 22,
   "id": "53b1763a-64eb-45f8-ac31-396ed20f7b11",
   "metadata": {},
   "outputs": [
    {
     "name": "stdout",
     "output_type": "stream",
     "text": [
      "[[ 0  1  2]\n",
      " [ 3  4  5]\n",
      " [ 6  7  8]\n",
      " [ 9 10 11]]\n",
      "\n",
      " [[ 0  4  8]\n",
      " [ 1  5  9]\n",
      " [ 2  6 10]\n",
      " [ 3  7 11]]\n"
     ]
    }
   ],
   "source": [
    "arr=np.arange(12)\n",
    "newarr=arr.reshape(4,3)\n",
    "print(newarr)\n",
    "newarr=arr.reshape((4,3),order='f')\n",
    "print(\"\\n\",newarr)"
   ]
  },
  {
   "cell_type": "code",
   "execution_count": 25,
   "id": "0af13bc8-61e0-45a1-99a3-16d7a9c5be09",
   "metadata": {},
   "outputs": [
    {
     "name": "stdout",
     "output_type": "stream",
     "text": [
      "[0 1 2 3 4 5 6 7 8 9]\n",
      "\n",
      " After broadcasting1 [0 1 2 3 4 2 2 2 2 2]\n",
      "\n",
      " After broadcasting2 [100   1 100   3 100   2 100   2 100   2]\n"
     ]
    }
   ],
   "source": [
    "x=np.arange(10)\n",
    "print(x)\n",
    "x[5:]=2\n",
    "print(\"\\n After broadcasting1\",x)\n",
    "x[::2]=100\n",
    "print(\"\\n After broadcasting2\",x)"
   ]
  },
  {
   "cell_type": "code",
   "execution_count": 26,
   "id": "fe4c1950-e0db-4221-9721-c8e958950ec9",
   "metadata": {},
   "outputs": [
    {
     "name": "stdout",
     "output_type": "stream",
     "text": [
      "a=\n",
      " [[ 0  1  2  3]\n",
      " [ 4  5  6  7]\n",
      " [ 8  9 10 11]]\n",
      "b=\n",
      " [[False False False False]\n",
      " [False  True  True  True]\n",
      " [ True  True  True  True]]\n"
     ]
    },
    {
     "data": {
      "text/plain": [
       "<function print(*args, sep=' ', end='\\n', file=None, flush=False)>"
      ]
     },
     "execution_count": 26,
     "metadata": {},
     "output_type": "execute_result"
    }
   ],
   "source": [
    "a=np.arange(12).reshape(3,4)\n",
    "print(\"a=\\n\",a)\n",
    "b=a>4\n",
    "print(\"b=\\n\",b)\n",
    "print"
   ]
  },
  {
   "cell_type": "code",
   "execution_count": 27,
   "id": "830f87bc-6e05-48a5-8e50-e146f071c38f",
   "metadata": {},
   "outputs": [
    {
     "name": "stdout",
     "output_type": "stream",
     "text": [
      "[[ 0  1  2  3]\n",
      " [ 4  5  6  7]\n",
      " [ 8  9 10 11]]\n",
      "transpose using.T\n",
      "[[ 0  4  8]\n",
      " [ 1  5  9]\n",
      " [ 2  6 10]\n",
      " [ 3  7 11]]\n",
      "transpose using the transpose() function\n"
     ]
    }
   ],
   "source": [
    "arr=np.arange(12).reshape((3,4))\n",
    "print(arr)\n",
    "print(\"transpose using.T\")\n",
    "print(arr.T)\n",
    "print(\"transpose using the transpose() function\")\n"
   ]
  },
  {
   "cell_type": "code",
   "execution_count": 29,
   "id": "b8450ad8-f471-4e44-8cb0-e8f001cc38f7",
   "metadata": {},
   "outputs": [
    {
     "name": "stdout",
     "output_type": "stream",
     "text": [
      "[[ 0  4  8]\n",
      " [ 1  5  9]\n",
      " [ 2  6 10]\n",
      " [ 3  7 11]]\n",
      "[[ 0  1  2  3]\n",
      " [ 4  5  6  7]\n",
      " [ 8  9 10 11]]\n"
     ]
    }
   ],
   "source": [
    "arr1=np.transpose(arr,(1,0))\n",
    "print(arr1)\n",
    "arr2=np.transpose(arr,(0,1))\n",
    "print(arr2)"
   ]
  },
  {
   "cell_type": "code",
   "execution_count": 30,
   "id": "450bf161-025d-4e95-8ff8-a8ac62e5edd1",
   "metadata": {},
   "outputs": [
    {
     "name": "stdout",
     "output_type": "stream",
     "text": [
      "Dot product of arr and arr2:\n",
      "[[ 14  38  62]\n",
      " [ 38 126 214]\n",
      " [ 62 214 366]]\n"
     ]
    }
   ],
   "source": [
    "arr=np.arange(12).reshape((3,4))\n",
    "print(\"Dot product of arr and arr2:\")\n",
    "print(np.dot(arr,arr.T))"
   ]
  },
  {
   "cell_type": "code",
   "execution_count": 31,
   "id": "b376f56c-f35a-4115-ac68-72a46371ef11",
   "metadata": {},
   "outputs": [
    {
     "name": "stdout",
     "output_type": "stream",
     "text": [
      "[[ 0  1  2  3]\n",
      " [ 4  5  6  7]\n",
      " [ 8  9 10 11]]\n",
      "swap axes 0 and 1:\n",
      "[[ 0  4  8]\n",
      " [ 1  5  9]\n",
      " [ 2  6 10]\n",
      " [ 3  7 11]]\n"
     ]
    }
   ],
   "source": [
    "arr=np.arange(12).reshape((3,4))\n",
    "print(arr)\n",
    "print(\"swap axes 0 and 1:\")\n",
    "print(np.swapaxes(arr,0,1))"
   ]
  },
  {
   "cell_type": "raw",
   "id": "27f13e9e-f68c-4da3-b5de-4d31d43d09de",
   "metadata": {},
   "source": []
  },
  {
   "cell_type": "raw",
   "id": "819137f4-e0c4-4e4d-bc03-eeb610be3738",
   "metadata": {},
   "source": []
  },
  {
   "cell_type": "code",
   "execution_count": null,
   "id": "9d0e5c3d-0258-4bf8-a499-89105b2294aa",
   "metadata": {},
   "outputs": [],
   "source": []
  }
 ],
 "metadata": {
  "kernelspec": {
   "display_name": "Python 3 (ipykernel)",
   "language": "python",
   "name": "python3"
  },
  "language_info": {
   "codemirror_mode": {
    "name": "ipython",
    "version": 3
   },
   "file_extension": ".py",
   "mimetype": "text/x-python",
   "name": "python",
   "nbconvert_exporter": "python",
   "pygments_lexer": "ipython3",
   "version": "3.13.5"
  }
 },
 "nbformat": 4,
 "nbformat_minor": 5
}
